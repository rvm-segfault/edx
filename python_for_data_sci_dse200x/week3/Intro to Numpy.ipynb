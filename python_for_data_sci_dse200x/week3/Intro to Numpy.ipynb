{
 "cells": [
  {
   "cell_type": "markdown",
   "metadata": {},
   "source": [
    "**Creating a 1D Array**"
   ]
  },
  {
   "cell_type": "code",
   "execution_count": 76,
   "metadata": {},
   "outputs": [
    {
     "name": "stdout",
     "output_type": "stream",
     "text": [
      "[1 3 5 7 9]\n",
      "<class 'numpy.ndarray'>\n"
     ]
    }
   ],
   "source": [
    "import numpy as np\n",
    "\n",
    "an_array = np.array([1,3,5,7, 9])\n",
    "\n",
    "print(an_array)\n",
    "\n",
    "print(type(an_array))"
   ]
  },
  {
   "cell_type": "code",
   "execution_count": 77,
   "metadata": {},
   "outputs": [
    {
     "name": "stdout",
     "output_type": "stream",
     "text": [
      "(5,)\n"
     ]
    }
   ],
   "source": [
    "print(an_array.shape)"
   ]
  },
  {
   "cell_type": "markdown",
   "metadata": {},
   "source": [
    "**Creating 2D arrays**"
   ]
  },
  {
   "cell_type": "code",
   "execution_count": 78,
   "metadata": {},
   "outputs": [
    {
     "name": "stdout",
     "output_type": "stream",
     "text": [
      "[[11 12 13]\n",
      " [21 22 23]]\n",
      "(2, 3)\n"
     ]
    }
   ],
   "source": [
    "twoD_array = np.array([[11,12,13], [21,22,23]])\n",
    "\n",
    "print(twoD_array)\n",
    "print(twoD_array.shape)"
   ]
  },
  {
   "cell_type": "markdown",
   "metadata": {},
   "source": [
    "**Many ways to create nd arrays**"
   ]
  },
  {
   "cell_type": "code",
   "execution_count": 79,
   "metadata": {},
   "outputs": [
    {
     "name": "stdout",
     "output_type": "stream",
     "text": [
      "[[ 0.  0.]\n",
      " [ 0.  0.]]\n"
     ]
    }
   ],
   "source": [
    "ex1 = np.zeros([2,2])\n",
    "print(ex1)"
   ]
  },
  {
   "cell_type": "code",
   "execution_count": 80,
   "metadata": {},
   "outputs": [
    {
     "name": "stdout",
     "output_type": "stream",
     "text": [
      "[[9 9]\n",
      " [9 9]]\n"
     ]
    }
   ],
   "source": [
    "ex2 = np.full((2,2), 9)\n",
    "print(ex2)"
   ]
  },
  {
   "cell_type": "code",
   "execution_count": 81,
   "metadata": {},
   "outputs": [
    {
     "name": "stdout",
     "output_type": "stream",
     "text": [
      "[[ 1.  0.]\n",
      " [ 0.  1.]\n",
      " [ 0.  0.]]\n"
     ]
    }
   ],
   "source": [
    "ex3 = np.eye(3,2)\n",
    "print(ex3)"
   ]
  },
  {
   "cell_type": "code",
   "execution_count": 82,
   "metadata": {},
   "outputs": [
    {
     "name": "stdout",
     "output_type": "stream",
     "text": [
      "[[ 1.  1.]]\n"
     ]
    }
   ],
   "source": [
    "ex4 = np.ones((1,2))\n",
    "print(ex4)"
   ]
  },
  {
   "cell_type": "code",
   "execution_count": 83,
   "metadata": {},
   "outputs": [
    {
     "name": "stdout",
     "output_type": "stream",
     "text": [
      "[[ 0.73620031  0.35784814]\n",
      " [ 0.10322418  0.29482833]]\n"
     ]
    }
   ],
   "source": [
    "ex5 = np.random.random((2,2))\n",
    "print(ex5)"
   ]
  },
  {
   "cell_type": "markdown",
   "metadata": {},
   "source": [
    "**Slice Indexing**"
   ]
  },
  {
   "cell_type": "code",
   "execution_count": 84,
   "metadata": {},
   "outputs": [
    {
     "name": "stdout",
     "output_type": "stream",
     "text": [
      "[[12 13]\n",
      " [22 23]]\n"
     ]
    }
   ],
   "source": [
    "an_array = np.array([[11,12,13],[21,22,23], [31,32,33]])\n",
    "a_slice = an_array[0:2, 1:3] #a_slice is a ref to a subset of an_array\n",
    "print(a_slice)"
   ]
  },
  {
   "cell_type": "code",
   "execution_count": 85,
   "metadata": {},
   "outputs": [
    {
     "name": "stdout",
     "output_type": "stream",
     "text": [
      "[[12 13]\n",
      " [22 23]]\n"
     ]
    }
   ],
   "source": [
    "#to copy a slice \n",
    "another_array = np.array(an_array[:2, 1:3])\n",
    "print(another_array)"
   ]
  },
  {
   "cell_type": "code",
   "execution_count": 86,
   "metadata": {},
   "outputs": [
    {
     "name": "stdout",
     "output_type": "stream",
     "text": [
      "[[ 11 102  13]\n",
      " [ 21  22  23]\n",
      " [ 31  32  33]]\n",
      "[[102  13]\n",
      " [ 22  23]]\n",
      "[[1020   13]\n",
      " [  22   23]]\n"
     ]
    }
   ],
   "source": [
    "#a_slice is ref \n",
    "a_slice[0,0] = 102\n",
    "another_array[0,0] = 1020 \n",
    "print(an_array)\n",
    "print(a_slice)\n",
    "print(another_array)"
   ]
  },
  {
   "cell_type": "markdown",
   "metadata": {
    "collapsed": true
   },
   "source": [
    "**Indexing using lists**"
   ]
  },
  {
   "cell_type": "code",
   "execution_count": 87,
   "metadata": {},
   "outputs": [
    {
     "name": "stdout",
     "output_type": "stream",
     "text": [
      "[[1011  102   13]\n",
      " [  21 1022   23]\n",
      " [  31   32 1033]]\n"
     ]
    }
   ],
   "source": [
    "row_indices = np.array([0,1,2])\n",
    "col_indices = np.array([0,1,2])\n",
    "an_array[row_indices, col_indices] += 1000\n",
    "print(an_array)"
   ]
  },
  {
   "cell_type": "markdown",
   "metadata": {},
   "source": [
    "**Boolean Indexing**"
   ]
  },
  {
   "cell_type": "code",
   "execution_count": 91,
   "metadata": {},
   "outputs": [
    {
     "data": {
      "text/plain": [
       "array([[ True,  True, False],\n",
       "       [False,  True, False],\n",
       "       [ True,  True,  True]], dtype=bool)"
      ]
     },
     "execution_count": 91,
     "metadata": {},
     "output_type": "execute_result"
    }
   ],
   "source": [
    "filter = (an_array > 25)\n",
    "filter"
   ]
  },
  {
   "cell_type": "code",
   "execution_count": 92,
   "metadata": {},
   "outputs": [
    {
     "name": "stdout",
     "output_type": "stream",
     "text": [
      "[1011  102 1022   31   32 1033]\n"
     ]
    }
   ],
   "source": [
    "print(an_array[filter])"
   ]
  },
  {
   "cell_type": "code",
   "execution_count": 93,
   "metadata": {},
   "outputs": [
    {
     "name": "stdout",
     "output_type": "stream",
     "text": [
      "[1011  102   21 1022   23   31   32 1033]\n"
     ]
    }
   ],
   "source": [
    "print(an_array[an_array>15])"
   ]
  },
  {
   "cell_type": "code",
   "execution_count": 94,
   "metadata": {},
   "outputs": [
    {
     "name": "stdout",
     "output_type": "stream",
     "text": [
      "[[1011  102   13]\n",
      " [  21 1022   23]\n",
      " [  31   32 1033]]\n"
     ]
    }
   ],
   "source": [
    "print(an_array)"
   ]
  },
  {
   "cell_type": "markdown",
   "metadata": {},
   "source": [
    "**Modifying array based on boolean indexing**"
   ]
  },
  {
   "cell_type": "code",
   "execution_count": 95,
   "metadata": {},
   "outputs": [
    {
     "name": "stdout",
     "output_type": "stream",
     "text": [
      "[[1011  202   13]\n",
      " [  21 1122   23]\n",
      " [  31  132 1033]]\n"
     ]
    }
   ],
   "source": [
    "an_array[an_array%2==0] += 100\n",
    "print(an_array)"
   ]
  },
  {
   "cell_type": "markdown",
   "metadata": {},
   "source": [
    "**nd array data types**"
   ]
  },
  {
   "cell_type": "code",
   "execution_count": 102,
   "metadata": {},
   "outputs": [
    {
     "name": "stdout",
     "output_type": "stream",
     "text": [
      "int64\n",
      "float64\n"
     ]
    }
   ],
   "source": [
    "#auto assigned data type by python\n",
    "int_array = np.array([1,2,3,4])\n",
    "print(int_array.dtype)\n",
    "float_array = np.array([1.1,2.2,3.3,4.4])\n",
    "print(float_array.dtype)"
   ]
  },
  {
   "cell_type": "code",
   "execution_count": 104,
   "metadata": {},
   "outputs": [
    {
     "name": "stdout",
     "output_type": "stream",
     "text": [
      "[1 2 3]\n",
      "int64\n"
     ]
    }
   ],
   "source": [
    "#explicitly specified type\n",
    "int_array_with_float = np.array([1.1, 2.2, 3.3], dtype=np.int64)\n",
    "print(int_array_with_float)\n",
    "print(int_array_with_float.dtype)"
   ]
  },
  {
   "cell_type": "markdown",
   "metadata": {},
   "source": []
  }
 ],
 "metadata": {
  "kernelspec": {
   "display_name": "Python 3",
   "language": "python",
   "name": "python3"
  },
  "language_info": {
   "codemirror_mode": {
    "name": "ipython",
    "version": 3
   },
   "file_extension": ".py",
   "mimetype": "text/x-python",
   "name": "python",
   "nbconvert_exporter": "python",
   "pygments_lexer": "ipython3",
   "version": "3.6.1"
  }
 },
 "nbformat": 4,
 "nbformat_minor": 2
}
